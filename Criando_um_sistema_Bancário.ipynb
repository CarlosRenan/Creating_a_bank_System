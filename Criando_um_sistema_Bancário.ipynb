{
  "nbformat": 4,
  "nbformat_minor": 0,
  "metadata": {
    "colab": {
      "provenance": [],
      "authorship_tag": "ABX9TyMdLskro7r1JoYgsbR38oEA",
      "include_colab_link": true
    },
    "kernelspec": {
      "name": "python3",
      "display_name": "Python 3"
    },
    "language_info": {
      "name": "python"
    }
  },
  "cells": [
    {
      "cell_type": "markdown",
      "metadata": {
        "id": "view-in-github",
        "colab_type": "text"
      },
      "source": [
        "<a href=\"https://colab.research.google.com/github/CarlosRenan/Creating_a_bank_System/blob/main/Criando_um_sistema_Banc%C3%A1rio.ipynb\" target=\"_parent\"><img src=\"https://colab.research.google.com/assets/colab-badge.svg\" alt=\"Open In Colab\"/></a>"
      ]
    },
    {
      "cell_type": "code",
      "execution_count": 86,
      "metadata": {
        "colab": {
          "base_uri": "https://localhost:8080/",
          "height": 530
        },
        "id": "5hXXJTSQu-LP",
        "outputId": "0965a3f8-76bb-4c58-811d-057484ebddc8"
      },
      "outputs": [
        {
          "output_type": "stream",
          "name": "stdout",
          "text": [
            "        Menu         \n",
            "\n",
            "1 - Saque\n",
            "2 - Depósito\n",
            "3 - Extrato ( Últimas 30 operações)\n",
            "4 - Sair\n",
            "\n",
            "\n",
            "Digite o número da sua opção t\n",
            " Valor inválido, por favor digíte um número válido\n"
          ]
        },
        {
          "output_type": "error",
          "ename": "KeyboardInterrupt",
          "evalue": "Interrupted by user",
          "traceback": [
            "\u001b[0;31m---------------------------------------------------------------------------\u001b[0m",
            "\u001b[0;31mKeyboardInterrupt\u001b[0m                         Traceback (most recent call last)",
            "\u001b[0;32m<ipython-input-86-d8cddc300a23>\u001b[0m in \u001b[0;36m<cell line: 28>\u001b[0;34m()\u001b[0m\n\u001b[1;32m     28\u001b[0m \u001b[0;32mwhile\u001b[0m \u001b[0;32mTrue\u001b[0m\u001b[0;34m:\u001b[0m\u001b[0;34m\u001b[0m\u001b[0;34m\u001b[0m\u001b[0m\n\u001b[1;32m     29\u001b[0m  \u001b[0;31m#SOLICITANDO A ENTRADA\u001b[0m\u001b[0;34m\u001b[0m\u001b[0;34m\u001b[0m\u001b[0m\n\u001b[0;32m---> 30\u001b[0;31m  \u001b[0mEntrada\u001b[0m \u001b[0;34m=\u001b[0m \u001b[0minput\u001b[0m\u001b[0;34m(\u001b[0m\u001b[0;34m'Digite o número da sua opção '\u001b[0m\u001b[0;34m)\u001b[0m\u001b[0;34m\u001b[0m\u001b[0;34m\u001b[0m\u001b[0m\n\u001b[0m\u001b[1;32m     31\u001b[0m \u001b[0;34m\u001b[0m\u001b[0m\n\u001b[1;32m     32\u001b[0m  \u001b[0;31m#Gerando a lógica conforme a opção\u001b[0m\u001b[0;34m\u001b[0m\u001b[0;34m\u001b[0m\u001b[0m\n",
            "\u001b[0;32m/usr/local/lib/python3.10/dist-packages/ipykernel/kernelbase.py\u001b[0m in \u001b[0;36mraw_input\u001b[0;34m(self, prompt)\u001b[0m\n\u001b[1;32m    849\u001b[0m                 \u001b[0;34m\"raw_input was called, but this frontend does not support input requests.\"\u001b[0m\u001b[0;34m\u001b[0m\u001b[0;34m\u001b[0m\u001b[0m\n\u001b[1;32m    850\u001b[0m             )\n\u001b[0;32m--> 851\u001b[0;31m         return self._input_request(str(prompt),\n\u001b[0m\u001b[1;32m    852\u001b[0m             \u001b[0mself\u001b[0m\u001b[0;34m.\u001b[0m\u001b[0m_parent_ident\u001b[0m\u001b[0;34m,\u001b[0m\u001b[0;34m\u001b[0m\u001b[0;34m\u001b[0m\u001b[0m\n\u001b[1;32m    853\u001b[0m             \u001b[0mself\u001b[0m\u001b[0;34m.\u001b[0m\u001b[0m_parent_header\u001b[0m\u001b[0;34m,\u001b[0m\u001b[0;34m\u001b[0m\u001b[0;34m\u001b[0m\u001b[0m\n",
            "\u001b[0;32m/usr/local/lib/python3.10/dist-packages/ipykernel/kernelbase.py\u001b[0m in \u001b[0;36m_input_request\u001b[0;34m(self, prompt, ident, parent, password)\u001b[0m\n\u001b[1;32m    893\u001b[0m             \u001b[0;32mexcept\u001b[0m \u001b[0mKeyboardInterrupt\u001b[0m\u001b[0;34m:\u001b[0m\u001b[0;34m\u001b[0m\u001b[0;34m\u001b[0m\u001b[0m\n\u001b[1;32m    894\u001b[0m                 \u001b[0;31m# re-raise KeyboardInterrupt, to truncate traceback\u001b[0m\u001b[0;34m\u001b[0m\u001b[0;34m\u001b[0m\u001b[0m\n\u001b[0;32m--> 895\u001b[0;31m                 \u001b[0;32mraise\u001b[0m \u001b[0mKeyboardInterrupt\u001b[0m\u001b[0;34m(\u001b[0m\u001b[0;34m\"Interrupted by user\"\u001b[0m\u001b[0;34m)\u001b[0m \u001b[0;32mfrom\u001b[0m \u001b[0;32mNone\u001b[0m\u001b[0;34m\u001b[0m\u001b[0;34m\u001b[0m\u001b[0m\n\u001b[0m\u001b[1;32m    896\u001b[0m             \u001b[0;32mexcept\u001b[0m \u001b[0mException\u001b[0m \u001b[0;32mas\u001b[0m \u001b[0me\u001b[0m\u001b[0;34m:\u001b[0m\u001b[0;34m\u001b[0m\u001b[0;34m\u001b[0m\u001b[0m\n\u001b[1;32m    897\u001b[0m                 \u001b[0mself\u001b[0m\u001b[0;34m.\u001b[0m\u001b[0mlog\u001b[0m\u001b[0;34m.\u001b[0m\u001b[0mwarning\u001b[0m\u001b[0;34m(\u001b[0m\u001b[0;34m\"Invalid Message:\"\u001b[0m\u001b[0;34m,\u001b[0m \u001b[0mexc_info\u001b[0m\u001b[0;34m=\u001b[0m\u001b[0;32mTrue\u001b[0m\u001b[0;34m)\u001b[0m\u001b[0;34m\u001b[0m\u001b[0;34m\u001b[0m\u001b[0m\n",
            "\u001b[0;31mKeyboardInterrupt\u001b[0m: Interrupted by user"
          ]
        }
      ],
      "source": [
        "###CRIANDO UM SISTEMA BANCÁRIO\n",
        "\n",
        "##Importando a biblioteca datetime\n",
        "from datetime import date\n",
        "\n",
        "\n",
        "#MOSTRANDO O MENU AO CLIENTE\n",
        "print(\"Menu\".center(20),\"\"\"\n",
        "\n",
        "1 - Saque\n",
        "2 - Depósito\n",
        "3 - Extrato ( Últimas 30 operações)\n",
        "4 - Sair\n",
        "\n",
        "\"\"\")\n",
        "\n",
        "\n",
        "#CRIANDO VARIÁVEIS\n",
        "Saldo = 0.00\n",
        "Saque = 0.00\n",
        "Deposito = 0.00\n",
        "Limite_Dia = 500.00\n",
        "Qt_Dia = 0\n",
        "Extrato = []\n",
        "Hoje = date.today()\n",
        "Operacao =' '\n",
        "\n",
        "while True:\n",
        " #SOLICITANDO A ENTRADA\n",
        " Entrada = input('Digite o número da sua opção ')\n",
        "\n",
        " #Gerando a lógica conforme a opção\n",
        " #Saque\n",
        " if Entrada == \"1\":\n",
        "    if Qt_Dia <= 3 and Qt_Dia >= 0:\n",
        "     Saque = float(input('Digite o valor do saque R$ ').replace(',','.'))\n",
        "     if Saque <= Limite_Dia and Saque <= Saldo and Saque > 0:\n",
        "        print(\"Aguarde a saída do valor solicitado \")\n",
        "        print(\"Saque bem-sucedido \")\n",
        "        Saldo -= Saque\n",
        "        Qt_Dia += 1\n",
        "        Operacao = 'Data ' + str(Hoje) + ' ' +  'Saque(-)' + 'Valor' + str(Saque)\n",
        "        Extrato.append(Operacao)\n",
        "     elif Saque < 0:\n",
        "      print('Escolha um valor positivo')\n",
        "     elif Saque >= Saldo:\n",
        "      print('Você não tem saldo para realizar esta operação, por gentileza, confira o seu saldo e tente novamente')\n",
        "     elif Qt_Dia > 3:\n",
        "      print('Você excedeu o limite de 3 saques diários, vá direto a uma agência')\n",
        "     elif Saque > Limite_Dia:\n",
        "      print('Este valor excede o seu limite de saque por operação')\n",
        " #Deposito\n",
        " elif Entrada == \"2\":\n",
        "     Deposito = float(input('Digite o valor do depósito R$').replace(',', '.'))\n",
        "     if Deposito > 0 :\n",
        "      Saldo += Deposito\n",
        "      Operacao = 'Data ' + str(Hoje) + ' ' +  'Déposito(+)' + 'Valor ' + str(Deposito)\n",
        "      Extrato.append(Operacao)\n",
        "      print('Deposito bem sucedido')\n",
        "     elif Deposito < 0 :\n",
        "      print('Escolha um valor positivo')\n",
        "\n",
        " #Extrato\n",
        " elif Entrada == \"3\":\n",
        "  print(\"Extrato\".center(25, \"*\"), \"Seu saldo é de \",Saldo,  Extrato[-31:])\n",
        " #Sair\n",
        " elif Entrada == \"4\":\n",
        "    break\n",
        " else:\n",
        "    print(' Valor inválido, por favor digíte um número válido')"
      ]
    },
    {
      "cell_type": "code",
      "source": [],
      "metadata": {
        "id": "KcClFX5qvC-u"
      },
      "execution_count": 35,
      "outputs": []
    },
    {
      "cell_type": "code",
      "source": [],
      "metadata": {
        "id": "NZ86Lv3z1E2B",
        "colab": {
          "base_uri": "https://localhost:8080/"
        },
        "outputId": "99a7ea79-c7ac-4dd9-c68b-1a296d857171"
      },
      "execution_count": 32,
      "outputs": [
        {
          "output_type": "stream",
          "name": "stdout",
          "text": [
            "Digite o valor do saque R$1\n",
            "Aguarde a saída do valor solicitado\n"
          ]
        }
      ]
    },
    {
      "cell_type": "code",
      "source": [
        "print(Saldo)\n",
        "print(Qt_Dia)\n",
        "print(Extrato)"
      ],
      "metadata": {
        "colab": {
          "base_uri": "https://localhost:8080/"
        },
        "id": "A9dczsTpsxF1",
        "outputId": "3b2501e4-c2b8-4c2b-a552-26ca31f23aa2"
      },
      "execution_count": 68,
      "outputs": [
        {
          "output_type": "stream",
          "name": "stdout",
          "text": [
            "3112.3\n",
            "0\n",
            "['Data 2024-05-23 Déposito(+)Valor 3112.3']\n"
          ]
        }
      ]
    }
  ]
}